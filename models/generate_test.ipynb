{
 "cells": [
  {
   "cell_type": "code",
   "execution_count": 32,
   "outputs": [],
   "source": [
    "import torch\n",
    "import random\n",
    "import numpy as np\n",
    "import os\n",
    "from utils.data import build_data\n",
    "from utils.data import load_data_setting\n",
    "from trainer.trainer import Trainer\n",
    "from models.setpred4RE import SetPred4RE\n",
    "import wandb\n",
    "\n"
   ],
   "metadata": {
    "collapsed": false,
    "ExecuteTime": {
     "end_time": "2023-11-01T17:33:44.212750991Z",
     "start_time": "2023-11-01T17:33:44.177846466Z"
    }
   },
   "id": "e1e47e7bd504d2d3"
  },
  {
   "cell_type": "code",
   "execution_count": 33,
   "outputs": [
    {
     "name": "stdout",
     "output_type": "stream",
     "text": [
      "Data setting is loaded from file:  /home/tian/Projects/RelationExtraction/data/NYT/generated_data/NYT_ILPmodel_data.pickle\n",
      "DATA SUMMARY START:\n",
      "     Relation Alphabet Size: 24\n",
      "     Train  Instance Number: 56196\n",
      "     Valid  Instance Number: 5000\n",
      "     Test   Instance Number: 5000\n",
      "DATA SUMMARY END.\n"
     ]
    },
    {
     "name": "stderr",
     "output_type": "stream",
     "text": [
      "Some weights of BertModel were not initialized from the model checkpoint at SpanBERT/spanbert-base-cased and are newly initialized: ['bert.pooler.dense.weight', 'bert.pooler.dense.bias']\n",
      "You should probably TRAIN this model on a down-stream task to be able to use it for predictions and inference.\n"
     ]
    }
   ],
   "source": [
    "def set_seed(seed):\n",
    "    random.seed(seed)\n",
    "    os.environ['PYTHONHASHSEED'] = str(seed)\n",
    "    np.random.seed(seed)\n",
    "    torch.manual_seed(seed)\n",
    "    torch.cuda.manual_seed(seed)\n",
    "    torch.cuda.manual_seed_all(seed)\n",
    "    torch.backends.cudnn.benchmark = False\n",
    "    torch.backends.cudnn.deterministic = True\n",
    "\n",
    "class make_args:\n",
    "    def __init__(self):\n",
    "        self.generated_data_directory = \"/home/tian/Projects/RelationExtraction/data/NYT/generated_data/\"\n",
    "        self.generated_param_directory = \"data/NYT/Hungarian-model-spanbert-regressive/\"\n",
    "        self.dataset_name = \"NYT\"\n",
    "        self.model_name = \"HungarianModel\"\n",
    "        # self.bert_directory = \"bert-base-cased\"\n",
    "        self.bert_directory = \"SpanBERT/spanbert-base-cased\"\n",
    "        self.train_file = \"data/NYT/exact_data/train.json\"\n",
    "        self.valid_file = \"data/NYT/exact_data/valid.json\"\n",
    "        self.test_file = \"data/NYT/exact_data/test.json\"\n",
    "        self.num_generated_triples = 15\n",
    "        self.num_decoder_layers = 3\n",
    "        self.na_rel_coef = 0.25\n",
    "        self.matcher = \"avg\"\n",
    "        self.rel_loss_weight = 1.0\n",
    "        self.head_ent_loss_weight = 2.0\n",
    "        self.tail_ent_loss_weight = 2.0\n",
    "        self.fix_bert_embeddings = True\n",
    "        self.batch_size = 8\n",
    "        self.max_epoch = 100\n",
    "        self.gradient_accumulation_steps = 1\n",
    "        self.decoder_lr = 2e-5\n",
    "        self.encoder_lr = 1e-5\n",
    "        self.lr_decay = 0.01\n",
    "        self.weight_decay = 1e-5\n",
    "        self.max_grad_norm = 2.5\n",
    "        self.optimizer = \"AdamW\"\n",
    "\n",
    "        # Evaluation arguments\n",
    "        self.n_best_size = 100\n",
    "        self.max_span_length = 12\n",
    "\n",
    "        # Misc arguments\n",
    "        self.refresh = False\n",
    "        self.use_gpu = False\n",
    "        self.visible_gpu = 1\n",
    "        self.random_seed = 1\n",
    "\n",
    "        # new attribute\n",
    "        self.use_ILP = False\n",
    "        self.use_dotproduct = False\n",
    "        self.use_regressive_decoder = True\n",
    "\n",
    "    def __iter__(self):\n",
    "        for attr in dir(self):\n",
    "            if not callable(getattr(self, attr)) and not attr.startswith(\"__\"):\n",
    "                yield attr\n",
    "\n",
    "a = make_args()\n",
    "\n",
    "\n",
    "data = load_data_setting(a)\n",
    "\n",
    "\n",
    "model = SetPred4RE(a, data.relational_alphabet.size())"
   ],
   "metadata": {
    "collapsed": false,
    "ExecuteTime": {
     "end_time": "2023-11-01T17:33:46.984499425Z",
     "start_time": "2023-11-01T17:33:44.947115534Z"
    }
   },
   "id": "7925edb8253a3f79"
  },
  {
   "cell_type": "code",
   "execution_count": 3,
   "outputs": [
    {
     "data": {
      "text/plain": "[[0,\n  [101,\n   1130,\n   9347,\n   117,\n   1456,\n   11301,\n   17879,\n   117,\n   1485,\n   1103,\n   15272,\n   3070,\n   117,\n   28117,\n   8661,\n   16999,\n   170,\n   7135,\n   1736,\n   117,\n   1105,\n   3328,\n   2125,\n   170,\n   11898,\n   16929,\n   1107,\n   4402,\n   1633,\n   119,\n   102],\n  {'relation': [0, 13],\n   'head_start_index': [2, 27],\n   'head_end_index': [2, 28],\n   'tail_start_index': [27, 2],\n   'tail_end_index': [28, 2]}],\n [1,\n  [101,\n   1130,\n   1117,\n   27355,\n   1105,\n   8035,\n   118,\n   13767,\n   1207,\n   1520,\n   117,\n   112,\n   112,\n   1109,\n   1249,\n   3202,\n   21543,\n   1116,\n   112,\n   8375,\n   131,\n   1738,\n   1107,\n   5008,\n   117,\n   112,\n   112,\n   1103,\n   1203,\n   20998,\n   2432,\n   1667,\n   14667,\n   1200,\n   16816,\n   1366,\n   1115,\n   1103,\n   2383,\n   1104,\n   1103,\n   6096,\n   3469,\n   1106,\n   1301,\n   1106,\n   1594,\n   1222,\n   5008,\n   1105,\n   1157,\n   5672,\n   9712,\n   14602,\n   16271,\n   8130,\n   1104,\n   1103,\n   5846,\n   1127,\n   1241,\n   3073,\n   17681,\n   1852,\n   1415,\n   117,\n   11108,\n   4133,\n   1164,\n   1103,\n   1648,\n   1104,\n   1738,\n   1107,\n   1103,\n   2112,\n   118,\n   2504,\n   1594,\n   1362,\n   118,\n   118,\n   1211,\n   5087,\n   117,\n   170,\n   6369,\n   1107,\n   3073,\n   118,\n   9712,\n   6451,\n   2109,\n   1105,\n   8362,\n   8009,\n   16719,\n   2168,\n   117,\n   1103,\n   2258,\n   5474,\n   1104,\n   10107,\n   1158,\n   9076,\n   6629,\n   117,\n   1103,\n   8869,\n   1106,\n   5118,\n   2568,\n   1103,\n   1764,\n   1105,\n   1103,\n   4185,\n   1104,\n   1231,\n   10448,\n   1103,\n   3089,\n   1689,\n   119,\n   102],\n  {'relation': [0],\n   'head_start_index': [122],\n   'head_end_index': [123],\n   'tail_start_index': [48],\n   'tail_end_index': [48]}]]"
     },
     "execution_count": 3,
     "metadata": {},
     "output_type": "execute_result"
    }
   ],
   "source": [
    "data.valid_loader[0:2]"
   ],
   "metadata": {
    "collapsed": false,
    "ExecuteTime": {
     "end_time": "2023-11-01T16:20:09.253230585Z",
     "start_time": "2023-11-01T16:20:09.218399992Z"
    }
   },
   "id": "e4116ada93591dde"
  },
  {
   "cell_type": "code",
   "execution_count": 4,
   "outputs": [],
   "source": [
    "from utils.functions import formulate_gold"
   ],
   "metadata": {
    "collapsed": false,
    "ExecuteTime": {
     "end_time": "2023-11-01T16:20:13.336716735Z",
     "start_time": "2023-11-01T16:20:13.334855926Z"
    }
   },
   "id": "4bbcd6b313ee0402"
  },
  {
   "cell_type": "code",
   "execution_count": 6,
   "outputs": [],
   "source": [
    "model.eval()\n",
    "prediction, gold = {}, {}\n",
    "\n",
    "with torch.no_grad():\n",
    "    batch_size = 2\n",
    "    eval_num = 2\n",
    "    total_batch = 1\n",
    "    for batch_id in range(total_batch):\n",
    "        start = 0\n",
    "        end = 2\n",
    "        if end > eval_num:\n",
    "            end = eval_num\n",
    "        eval_instance = data.valid_loader[start:end]\n",
    "        if not eval_instance:\n",
    "            continue\n",
    "        input_ids, attention_mask, target, info = model.batchify(eval_instance)\n",
    "        gold.update(formulate_gold(target, info))\n",
    "        # print(f\"gold: {gold}\")\n",
    "        # print(target)\n",
    "        gen_triples = model.gen_triples(input_ids, attention_mask, info)\n",
    "        # print(f\"gen_triples: {gen_triples}\")\n",
    "        # print(f\"gen_triples[0]: {gen_triples[0]}\")\n",
    "        # print(f\"gen_triples[0] length: {len(gen_triples[0])}\")\n",
    "        prediction.update(gen_triples)"
   ],
   "metadata": {
    "collapsed": false,
    "ExecuteTime": {
     "end_time": "2023-11-01T16:20:18.343661881Z",
     "start_time": "2023-11-01T16:20:17.621070813Z"
    }
   },
   "id": "267c6c5003b0af50"
  },
  {
   "cell_type": "code",
   "execution_count": 23,
   "outputs": [
    {
     "data": {
      "text/plain": "{'seq_len': [31, 126], 'sent_idx': [0, 1]}"
     },
     "execution_count": 23,
     "metadata": {},
     "output_type": "execute_result"
    }
   ],
   "source": [
    "info"
   ],
   "metadata": {
    "collapsed": false,
    "ExecuteTime": {
     "end_time": "2023-11-01T16:41:42.207176412Z",
     "start_time": "2023-11-01T16:41:42.121047620Z"
    }
   },
   "id": "a3ca991b808552b5"
  },
  {
   "cell_type": "code",
   "execution_count": 30,
   "outputs": [
    {
     "data": {
      "text/plain": "tensor([ 2.0421e-02,  2.0421e-02,  2.0421e-02,  2.0421e-02,  2.0421e-02,\n         2.0421e-02,  2.0421e-02,  2.0421e-02,  2.0421e-02,  2.0421e-02,\n         2.0421e-02,  2.0421e-02,  2.0421e-02,  2.0421e-02,  2.0421e-02,\n         2.0421e-02,  2.0421e-02,  2.0421e-02,  2.0421e-02,  2.0421e-02,\n         2.0421e-02,  2.0421e-02,  2.0421e-02,  2.0421e-02,  2.0421e-02,\n         2.0421e-02,  2.0421e-02,  2.0421e-02,  2.0421e-02,  2.0421e-02,\n         2.0421e-02, -1.0000e+04, -1.0000e+04, -1.0000e+04, -1.0000e+04,\n        -1.0000e+04, -1.0000e+04, -1.0000e+04, -1.0000e+04, -1.0000e+04,\n        -1.0000e+04, -1.0000e+04, -1.0000e+04, -1.0000e+04, -1.0000e+04,\n        -1.0000e+04, -1.0000e+04, -1.0000e+04, -1.0000e+04, -1.0000e+04,\n        -1.0000e+04, -1.0000e+04, -1.0000e+04, -1.0000e+04, -1.0000e+04,\n        -1.0000e+04, -1.0000e+04, -1.0000e+04, -1.0000e+04, -1.0000e+04,\n        -1.0000e+04, -1.0000e+04, -1.0000e+04, -1.0000e+04, -1.0000e+04,\n        -1.0000e+04, -1.0000e+04, -1.0000e+04, -1.0000e+04, -1.0000e+04,\n        -1.0000e+04, -1.0000e+04, -1.0000e+04, -1.0000e+04, -1.0000e+04,\n        -1.0000e+04, -1.0000e+04, -1.0000e+04, -1.0000e+04, -1.0000e+04,\n        -1.0000e+04, -1.0000e+04, -1.0000e+04, -1.0000e+04, -1.0000e+04,\n        -1.0000e+04, -1.0000e+04, -1.0000e+04, -1.0000e+04, -1.0000e+04,\n        -1.0000e+04, -1.0000e+04, -1.0000e+04, -1.0000e+04, -1.0000e+04,\n        -1.0000e+04, -1.0000e+04, -1.0000e+04, -1.0000e+04, -1.0000e+04,\n        -1.0000e+04, -1.0000e+04, -1.0000e+04, -1.0000e+04, -1.0000e+04,\n        -1.0000e+04, -1.0000e+04, -1.0000e+04, -1.0000e+04, -1.0000e+04,\n        -1.0000e+04, -1.0000e+04, -1.0000e+04, -1.0000e+04, -1.0000e+04,\n        -1.0000e+04, -1.0000e+04, -1.0000e+04, -1.0000e+04, -1.0000e+04,\n        -1.0000e+04, -1.0000e+04, -1.0000e+04, -1.0000e+04, -1.0000e+04,\n        -1.0000e+04], grad_fn=<SelectBackward0>)"
     },
     "execution_count": 30,
     "metadata": {},
     "output_type": "execute_result"
    }
   ],
   "source": [
    "model.forward(input_ids, attention_mask)['head_start_logits'][0][0]"
   ],
   "metadata": {
    "collapsed": false,
    "ExecuteTime": {
     "end_time": "2023-11-01T16:43:45.188413279Z",
     "start_time": "2023-11-01T16:43:44.276789510Z"
    }
   },
   "id": "4adb8b743a1d4e0a"
  },
  {
   "cell_type": "code",
   "execution_count": 11,
   "outputs": [
    {
     "data": {
      "text/plain": "[{'relation': tensor([ 0, 13]),\n  'head_start_index': tensor([ 2, 27]),\n  'head_end_index': tensor([ 2, 28]),\n  'tail_start_index': tensor([27,  2]),\n  'tail_end_index': tensor([28,  2])},\n {'relation': tensor([0]),\n  'head_start_index': tensor([122]),\n  'head_end_index': tensor([123]),\n  'tail_start_index': tensor([48]),\n  'tail_end_index': tensor([48])}]"
     },
     "execution_count": 11,
     "metadata": {},
     "output_type": "execute_result"
    }
   ],
   "source": [
    "target"
   ],
   "metadata": {
    "collapsed": false,
    "ExecuteTime": {
     "end_time": "2023-11-01T16:21:38.785931090Z",
     "start_time": "2023-11-01T16:21:38.747524052Z"
    }
   },
   "id": "aed4a547e2d2a654"
  },
  {
   "cell_type": "code",
   "execution_count": 18,
   "outputs": [
    {
     "data": {
      "text/plain": "Pred_Triple(pred_rel=18, rel_prob=0.08826401084661484, head_start_index=1, head_end_index=1, head_start_prob=0.032258063554763794, head_end_prob=0.032258063554763794, tail_start_index=1, tail_end_index=1, tail_start_prob=0.032258063554763794, tail_end_prob=0.032258063554763794)"
     },
     "execution_count": 18,
     "metadata": {},
     "output_type": "execute_result"
    }
   ],
   "source": [
    "gen_triples[0][3]"
   ],
   "metadata": {
    "collapsed": false,
    "ExecuteTime": {
     "end_time": "2023-11-01T16:36:37.070770043Z",
     "start_time": "2023-11-01T16:36:36.962439352Z"
    }
   },
   "id": "661f941cccee0642"
  },
  {
   "cell_type": "code",
   "execution_count": 7,
   "outputs": [
    {
     "data": {
      "text/plain": "{0: [Pred_Triple(pred_rel=1, rel_prob=0.12718185782432556, head_start_index=1, head_end_index=1, head_start_prob=0.032258063554763794, head_end_prob=0.032258063554763794, tail_start_index=1, tail_end_index=1, tail_start_prob=0.032258063554763794, tail_end_prob=0.032258063554763794),\n  Pred_Triple(pred_rel=16, rel_prob=0.08242230117321014, head_start_index=1, head_end_index=1, head_start_prob=0.032258063554763794, head_end_prob=0.032258063554763794, tail_start_index=1, tail_end_index=1, tail_start_prob=0.032258063554763794, tail_end_prob=0.032258063554763794),\n  Pred_Triple(pred_rel=11, rel_prob=0.11693752557039261, head_start_index=1, head_end_index=1, head_start_prob=0.032258063554763794, head_end_prob=0.032258063554763794, tail_start_index=1, tail_end_index=1, tail_start_prob=0.032258063554763794, tail_end_prob=0.032258063554763794),\n  Pred_Triple(pred_rel=18, rel_prob=0.08826401084661484, head_start_index=1, head_end_index=1, head_start_prob=0.032258063554763794, head_end_prob=0.032258063554763794, tail_start_index=1, tail_end_index=1, tail_start_prob=0.032258063554763794, tail_end_prob=0.032258063554763794),\n  Pred_Triple(pred_rel=13, rel_prob=0.11755336076021194, head_start_index=1, head_end_index=1, head_start_prob=0.032258063554763794, head_end_prob=0.032258063554763794, tail_start_index=1, tail_end_index=1, tail_start_prob=0.032258063554763794, tail_end_prob=0.032258063554763794),\n  Pred_Triple(pred_rel=12, rel_prob=0.1249481663107872, head_start_index=1, head_end_index=1, head_start_prob=0.032258063554763794, head_end_prob=0.032258063554763794, tail_start_index=1, tail_end_index=1, tail_start_prob=0.032258063554763794, tail_end_prob=0.032258063554763794),\n  Pred_Triple(pred_rel=17, rel_prob=0.11883381009101868, head_start_index=1, head_end_index=1, head_start_prob=0.032258063554763794, head_end_prob=0.032258063554763794, tail_start_index=1, tail_end_index=1, tail_start_prob=0.032258063554763794, tail_end_prob=0.032258063554763794),\n  Pred_Triple(pred_rel=6, rel_prob=0.11221189796924591, head_start_index=1, head_end_index=1, head_start_prob=0.032258063554763794, head_end_prob=0.032258063554763794, tail_start_index=1, tail_end_index=1, tail_start_prob=0.032258063554763794, tail_end_prob=0.032258063554763794),\n  Pred_Triple(pred_rel=16, rel_prob=0.09002862870693207, head_start_index=1, head_end_index=1, head_start_prob=0.032258063554763794, head_end_prob=0.032258063554763794, tail_start_index=1, tail_end_index=1, tail_start_prob=0.032258063554763794, tail_end_prob=0.032258063554763794),\n  Pred_Triple(pred_rel=9, rel_prob=0.1297011524438858, head_start_index=1, head_end_index=1, head_start_prob=0.032258063554763794, head_end_prob=0.032258063554763794, tail_start_index=1, tail_end_index=1, tail_start_prob=0.032258063554763794, tail_end_prob=0.032258063554763794),\n  Pred_Triple(pred_rel=20, rel_prob=0.07624019682407379, head_start_index=1, head_end_index=1, head_start_prob=0.032258063554763794, head_end_prob=0.032258063554763794, tail_start_index=1, tail_end_index=1, tail_start_prob=0.032258063554763794, tail_end_prob=0.032258063554763794),\n  Pred_Triple(pred_rel=5, rel_prob=0.11518754065036774, head_start_index=1, head_end_index=1, head_start_prob=0.032258063554763794, head_end_prob=0.032258063554763794, tail_start_index=1, tail_end_index=1, tail_start_prob=0.032258063554763794, tail_end_prob=0.032258063554763794),\n  Pred_Triple(pred_rel=14, rel_prob=0.09531062841415405, head_start_index=1, head_end_index=1, head_start_prob=0.032258063554763794, head_end_prob=0.032258063554763794, tail_start_index=1, tail_end_index=1, tail_start_prob=0.032258063554763794, tail_end_prob=0.032258063554763794),\n  Pred_Triple(pred_rel=23, rel_prob=0.1655554175376892, head_start_index=1, head_end_index=1, head_start_prob=0.032258063554763794, head_end_prob=0.032258063554763794, tail_start_index=1, tail_end_index=1, tail_start_prob=0.032258063554763794, tail_end_prob=0.032258063554763794),\n  Pred_Triple(pred_rel=10, rel_prob=0.10013080388307571, head_start_index=1, head_end_index=1, head_start_prob=0.032258063554763794, head_end_prob=0.032258063554763794, tail_start_index=1, tail_end_index=1, tail_start_prob=0.032258063554763794, tail_end_prob=0.032258063554763794)],\n 1: [Pred_Triple(pred_rel=1, rel_prob=0.1282375305891037, head_start_index=1, head_end_index=1, head_start_prob=0.007936508394777775, head_end_prob=0.007936508394777775, tail_start_index=1, tail_end_index=1, tail_start_prob=0.007936508394777775, tail_end_prob=0.007936508394777775),\n  Pred_Triple(pred_rel=16, rel_prob=0.0839802622795105, head_start_index=1, head_end_index=1, head_start_prob=0.007936508394777775, head_end_prob=0.007936508394777775, tail_start_index=1, tail_end_index=1, tail_start_prob=0.007936508394777775, tail_end_prob=0.007936508394777775),\n  Pred_Triple(pred_rel=11, rel_prob=0.11670508235692978, head_start_index=1, head_end_index=1, head_start_prob=0.007936508394777775, head_end_prob=0.007936508394777775, tail_start_index=1, tail_end_index=1, tail_start_prob=0.007936508394777775, tail_end_prob=0.007936508394777775),\n  Pred_Triple(pred_rel=18, rel_prob=0.08566451817750931, head_start_index=1, head_end_index=1, head_start_prob=0.007936508394777775, head_end_prob=0.007936508394777775, tail_start_index=1, tail_end_index=1, tail_start_prob=0.007936508394777775, tail_end_prob=0.007936508394777775),\n  Pred_Triple(pred_rel=13, rel_prob=0.1190834790468216, head_start_index=1, head_end_index=1, head_start_prob=0.007936508394777775, head_end_prob=0.007936508394777775, tail_start_index=1, tail_end_index=1, tail_start_prob=0.007936508394777775, tail_end_prob=0.007936508394777775),\n  Pred_Triple(pred_rel=12, rel_prob=0.12242703139781952, head_start_index=1, head_end_index=1, head_start_prob=0.007936508394777775, head_end_prob=0.007936508394777775, tail_start_index=1, tail_end_index=1, tail_start_prob=0.007936508394777775, tail_end_prob=0.007936508394777775),\n  Pred_Triple(pred_rel=17, rel_prob=0.11976308375597, head_start_index=1, head_end_index=1, head_start_prob=0.007936508394777775, head_end_prob=0.007936508394777775, tail_start_index=1, tail_end_index=1, tail_start_prob=0.007936508394777775, tail_end_prob=0.007936508394777775),\n  Pred_Triple(pred_rel=6, rel_prob=0.11565396934747696, head_start_index=1, head_end_index=1, head_start_prob=0.007936508394777775, head_end_prob=0.007936508394777775, tail_start_index=1, tail_end_index=1, tail_start_prob=0.007936508394777775, tail_end_prob=0.007936508394777775),\n  Pred_Triple(pred_rel=16, rel_prob=0.09241880476474762, head_start_index=1, head_end_index=1, head_start_prob=0.007936508394777775, head_end_prob=0.007936508394777775, tail_start_index=1, tail_end_index=1, tail_start_prob=0.007936508394777775, tail_end_prob=0.007936508394777775),\n  Pred_Triple(pred_rel=9, rel_prob=0.13164988160133362, head_start_index=1, head_end_index=1, head_start_prob=0.007936508394777775, head_end_prob=0.007936508394777775, tail_start_index=1, tail_end_index=1, tail_start_prob=0.007936508394777775, tail_end_prob=0.007936508394777775),\n  Pred_Triple(pred_rel=20, rel_prob=0.07601246237754822, head_start_index=1, head_end_index=1, head_start_prob=0.007936508394777775, head_end_prob=0.007936508394777775, tail_start_index=1, tail_end_index=1, tail_start_prob=0.007936508394777775, tail_end_prob=0.007936508394777775),\n  Pred_Triple(pred_rel=5, rel_prob=0.11469205468893051, head_start_index=1, head_end_index=1, head_start_prob=0.007936508394777775, head_end_prob=0.007936508394777775, tail_start_index=1, tail_end_index=1, tail_start_prob=0.007936508394777775, tail_end_prob=0.007936508394777775),\n  Pred_Triple(pred_rel=14, rel_prob=0.09184548258781433, head_start_index=1, head_end_index=1, head_start_prob=0.007936508394777775, head_end_prob=0.007936508394777775, tail_start_index=1, tail_end_index=1, tail_start_prob=0.007936508394777775, tail_end_prob=0.007936508394777775),\n  Pred_Triple(pred_rel=23, rel_prob=0.16454632580280304, head_start_index=1, head_end_index=1, head_start_prob=0.007936508394777775, head_end_prob=0.007936508394777775, tail_start_index=1, tail_end_index=1, tail_start_prob=0.007936508394777775, tail_end_prob=0.007936508394777775),\n  Pred_Triple(pred_rel=10, rel_prob=0.10252433270215988, head_start_index=1, head_end_index=1, head_start_prob=0.007936508394777775, head_end_prob=0.007936508394777775, tail_start_index=1, tail_end_index=1, tail_start_prob=0.007936508394777775, tail_end_prob=0.007936508394777775)]}"
     },
     "execution_count": 7,
     "metadata": {},
     "output_type": "execute_result"
    }
   ],
   "source": [
    "prediction"
   ],
   "metadata": {
    "collapsed": false,
    "ExecuteTime": {
     "end_time": "2023-11-01T16:20:20.576564306Z",
     "start_time": "2023-11-01T16:20:20.529428024Z"
    }
   },
   "id": "4de67382b2cfc523"
  },
  {
   "cell_type": "code",
   "execution_count": 34,
   "outputs": [],
   "source": [
    "trainer = Trainer(model, data, a)"
   ],
   "metadata": {
    "collapsed": false,
    "ExecuteTime": {
     "end_time": "2023-11-01T17:33:53.293220074Z",
     "start_time": "2023-11-01T17:33:53.145053062Z"
    }
   },
   "id": "7dc990e5f2ef14c0"
  },
  {
   "cell_type": "code",
   "execution_count": 36,
   "outputs": [
    {
     "name": "stdout",
     "output_type": "stream",
     "text": [
      "T_destination\n",
      "_backward_hooks\n",
      "_backward_pre_hooks\n",
      "_buffers\n",
      "_forward_hooks\n",
      "_forward_hooks_with_kwargs\n",
      "_forward_pre_hooks\n",
      "_forward_pre_hooks_with_kwargs\n",
      "_is_full_backward_hook\n",
      "_load_state_dict_post_hooks\n",
      "_load_state_dict_pre_hooks\n",
      "_modules\n",
      "_non_persistent_buffers_set\n",
      "_parameters\n",
      "_state_dict_hooks\n",
      "_state_dict_pre_hooks\n",
      "_version\n",
      "args\n",
      "call_super_init\n",
      "data\n",
      "dump_patches\n",
      "optimizer\n",
      "training\n"
     ]
    }
   ],
   "source": [
    "# check all attributes of trainer\n",
    "\n",
    "for attr in dir(trainer):\n",
    "    if not callable(getattr(trainer, attr)) and not attr.startswith(\"__\"):\n",
    "        print(attr)"
   ],
   "metadata": {
    "collapsed": false,
    "ExecuteTime": {
     "end_time": "2023-11-01T17:35:21.021824288Z",
     "start_time": "2023-11-01T17:35:20.905473319Z"
    }
   },
   "id": "253431b2dabc3e18"
  },
  {
   "cell_type": "code",
   "execution_count": 39,
   "outputs": [
    {
     "data": {
      "text/plain": "8"
     },
     "execution_count": 39,
     "metadata": {},
     "output_type": "execute_result"
    }
   ],
   "source": [
    "trainer.args.batch_size"
   ],
   "metadata": {
    "collapsed": false,
    "ExecuteTime": {
     "end_time": "2023-11-01T17:36:13.653222313Z",
     "start_time": "2023-11-01T17:36:13.502735393Z"
    }
   },
   "id": "d3312469c0bec25e"
  }
 ],
 "metadata": {
  "kernelspec": {
   "display_name": "Python 3",
   "language": "python",
   "name": "python3"
  },
  "language_info": {
   "codemirror_mode": {
    "name": "ipython",
    "version": 2
   },
   "file_extension": ".py",
   "mimetype": "text/x-python",
   "name": "python",
   "nbconvert_exporter": "python",
   "pygments_lexer": "ipython2",
   "version": "2.7.6"
  }
 },
 "nbformat": 4,
 "nbformat_minor": 5
}
